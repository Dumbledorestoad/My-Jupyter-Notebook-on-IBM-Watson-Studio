{
  "metadata": {
    "kernelspec": {
      "name": "python",
      "display_name": "Pyolite",
      "language": "python"
    },
    "language_info": {
      "codemirror_mode": {
        "name": "python",
        "version": 3
      },
      "file_extension": ".py",
      "mimetype": "text/x-python",
      "name": "python",
      "nbconvert_exporter": "python",
      "pygments_lexer": "ipython3",
      "version": "3.8"
    }
  },
  "nbformat_minor": 4,
  "nbformat": 4,
  "cells": [
    {
      "cell_type": "markdown",
      "source": "# H1 My Jupyter Notebook on IBM Watson Studio ",
      "metadata": {
        "tags": []
      }
    },
    {
      "cell_type": "markdown",
      "source": "**Maxwell Sorby**\nData Scientist ",
      "metadata": {}
    },
    {
      "cell_type": "markdown",
      "source": "*I am interested in data science because of the number of opportunities that this field has to offer. I also want to be able to have a job that encourages growth and knowledge as a tool for success.*",
      "metadata": {}
    },
    {
      "cell_type": "markdown",
      "source": "### This code below will solve the simple equation of 5 + 5 = 10. ",
      "metadata": {}
    },
    {
      "cell_type": "code",
      "source": "5+5",
      "metadata": {
        "trusted": true
      },
      "execution_count": 12,
      "outputs": [
        {
          "execution_count": 12,
          "output_type": "execute_result",
          "data": {
            "text/plain": "10"
          },
          "metadata": {}
        }
      ]
    },
    {
      "cell_type": "markdown",
      "source": " 1. Number List 1\n 2. Number List 2 \n 3. Number Listr 2\n - Bullet 1\n - Bullet 2 \n - Bullet 3\n \n\nThe Supreme Website [Supreme](https://us.supreme.com/)\n ",
      "metadata": {}
    }
  ]
}